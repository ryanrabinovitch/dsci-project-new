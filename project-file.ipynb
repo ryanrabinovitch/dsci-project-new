{
 "cells": [
  {
   "cell_type": "markdown",
   "id": "954d6164-f4aa-4b48-85eb-fb9906c70f32",
   "metadata": {},
   "source": [
    "TITLE: Analysis of User Knowledge Modeling: Predicting an individuals intelligence level"
   ]
  },
  {
   "cell_type": "markdown",
   "id": "7dbb77f6-e4de-4734-84cd-1b48bcf4e411",
   "metadata": {
    "tags": []
   },
   "source": [
    "INTRODUCTION: Understanding knowledge is key for assessing an individual's ability to learn and apply new information. Generally, this is a challenging problem due to the fact that many people are skilled in varied fields, and thus don't necessarily have a clear idea as to how they stack up among others. Using different classifications ranging from \"very_low\" to \"high\", This data set contains a variety of potential predictor values that may help us predict an individual's knowledge level. In this analysis, we'll ask the following question: \"Can STG (Study Time for Goal) and PEG (Exam Performance for Goal) act as predictor values to help us figure out a user's knowledge level?\" We'll use the following data set: https://archive.ics.uci.edu/static/public/257/user+knowledge+modeling.zip"
   ]
  },
  {
   "cell_type": "code",
   "execution_count": null,
   "id": "01e2651b-8a20-4066-869c-69d2030fd461",
   "metadata": {},
   "outputs": [],
   "source": []
  }
 ],
 "metadata": {
  "kernelspec": {
   "display_name": "Python 3 (ipykernel)",
   "language": "python",
   "name": "python3"
  },
  "language_info": {
   "codemirror_mode": {
    "name": "ipython",
    "version": 3
   },
   "file_extension": ".py",
   "mimetype": "text/x-python",
   "name": "python",
   "nbconvert_exporter": "python",
   "pygments_lexer": "ipython3",
   "version": "3.10.8"
  }
 },
 "nbformat": 4,
 "nbformat_minor": 5
}
