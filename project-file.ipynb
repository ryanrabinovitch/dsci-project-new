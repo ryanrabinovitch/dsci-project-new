{
 "cells": [
  {
   "cell_type": "markdown",
   "id": "954d6164-f4aa-4b48-85eb-fb9906c70f32",
   "metadata": {},
   "source": [
    "TITLE: Analysis of User Knowledge Modeling: Predicting an individuals intelligence level"
   ]
  },
  {
   "cell_type": "markdown",
   "id": "7dbb77f6-e4de-4734-84cd-1b48bcf4e411",
   "metadata": {
    "tags": []
   },
   "source": [
    "INTRODUCTION: Understanding knowledge is key for assessing an individual's ability to learn and apply new information. Generally, this is a challenging problem due to the fact that many people are skilled in varied fields, and thus don't necessarily have a clear idea as to how they stack up among others. Using different classifications ranging from \"very_low\" to \"high\", This data set contains a variety of potential predictor values that may help us predict an individual's knowledge level. In this analysis, we'll ask the following question: \"Can STG (Study Time for Goal) and PEG (Exam Performance for Goal) act as predictor values to help us figure out a user's knowledge level?\" We'll use the following data set: https://archive.ics.uci.edu/static/public/257/user+knowledge+modeling.zip"
   ]
  },
  {
   "cell_type": "code",
   "execution_count": 11,
   "id": "01e2651b-8a20-4066-869c-69d2030fd461",
   "metadata": {
    "tags": []
   },
   "outputs": [
    {
     "data": {
      "text/html": [
       "<div>\n",
       "<style scoped>\n",
       "    .dataframe tbody tr th:only-of-type {\n",
       "        vertical-align: middle;\n",
       "    }\n",
       "\n",
       "    .dataframe tbody tr th {\n",
       "        vertical-align: top;\n",
       "    }\n",
       "\n",
       "    .dataframe thead th {\n",
       "        text-align: right;\n",
       "    }\n",
       "</style>\n",
       "<table border=\"1\" class=\"dataframe\">\n",
       "  <thead>\n",
       "    <tr style=\"text-align: right;\">\n",
       "      <th></th>\n",
       "      <th>study_time</th>\n",
       "      <th>exam_performance</th>\n",
       "      <th>UNS</th>\n",
       "    </tr>\n",
       "  </thead>\n",
       "  <tbody>\n",
       "    <tr>\n",
       "      <th>0</th>\n",
       "      <td>0.00</td>\n",
       "      <td>0.00</td>\n",
       "      <td>very_low</td>\n",
       "    </tr>\n",
       "    <tr>\n",
       "      <th>1</th>\n",
       "      <td>0.08</td>\n",
       "      <td>0.90</td>\n",
       "      <td>High</td>\n",
       "    </tr>\n",
       "    <tr>\n",
       "      <th>2</th>\n",
       "      <td>0.06</td>\n",
       "      <td>0.33</td>\n",
       "      <td>Low</td>\n",
       "    </tr>\n",
       "    <tr>\n",
       "      <th>3</th>\n",
       "      <td>0.10</td>\n",
       "      <td>0.30</td>\n",
       "      <td>Middle</td>\n",
       "    </tr>\n",
       "    <tr>\n",
       "      <th>4</th>\n",
       "      <td>0.08</td>\n",
       "      <td>0.24</td>\n",
       "      <td>Low</td>\n",
       "    </tr>\n",
       "    <tr>\n",
       "      <th>...</th>\n",
       "      <td>...</td>\n",
       "      <td>...</td>\n",
       "      <td>...</td>\n",
       "    </tr>\n",
       "    <tr>\n",
       "      <th>253</th>\n",
       "      <td>0.61</td>\n",
       "      <td>0.58</td>\n",
       "      <td>High</td>\n",
       "    </tr>\n",
       "    <tr>\n",
       "      <th>254</th>\n",
       "      <td>0.78</td>\n",
       "      <td>0.60</td>\n",
       "      <td>Middle</td>\n",
       "    </tr>\n",
       "    <tr>\n",
       "      <th>255</th>\n",
       "      <td>0.54</td>\n",
       "      <td>0.77</td>\n",
       "      <td>High</td>\n",
       "    </tr>\n",
       "    <tr>\n",
       "      <th>256</th>\n",
       "      <td>0.50</td>\n",
       "      <td>0.26</td>\n",
       "      <td>Middle</td>\n",
       "    </tr>\n",
       "    <tr>\n",
       "      <th>257</th>\n",
       "      <td>0.66</td>\n",
       "      <td>0.74</td>\n",
       "      <td>High</td>\n",
       "    </tr>\n",
       "  </tbody>\n",
       "</table>\n",
       "<p>258 rows × 3 columns</p>\n",
       "</div>"
      ],
      "text/plain": [
       "     study_time  exam_performance       UNS\n",
       "0          0.00              0.00  very_low\n",
       "1          0.08              0.90      High\n",
       "2          0.06              0.33       Low\n",
       "3          0.10              0.30    Middle\n",
       "4          0.08              0.24       Low\n",
       "..          ...               ...       ...\n",
       "253        0.61              0.58      High\n",
       "254        0.78              0.60    Middle\n",
       "255        0.54              0.77      High\n",
       "256        0.50              0.26    Middle\n",
       "257        0.66              0.74      High\n",
       "\n",
       "[258 rows x 3 columns]"
      ]
     },
     "execution_count": 11,
     "metadata": {},
     "output_type": "execute_result"
    }
   ],
   "source": [
    "#a few extra things need to be imported in order to remotely read the excel file within the zip file\n",
    "import requests\n",
    "from io import BytesIO\n",
    "import pandas as pd\n",
    "from zipfile import ZipFile\n",
    "\n",
    "#finding and reading the excel file\n",
    "zip_file_url = 'https://archive.ics.uci.edu/static/public/257/user+knowledge+modeling.zip'\n",
    "response = requests.get(zip_file_url)\n",
    "zip_file = ZipFile(BytesIO(response.content))\n",
    "excel_file = zip_file.namelist()[0]\n",
    "initial_read = pd.read_excel(zip_file.open(excel_file), sheet_name='Training_Data')\n",
    "\n",
    "#dropping some extra columns not relevant to our analysis. knowledge_training should output just the data and the classification\n",
    "knowledge_training_initial = initial_read.drop(columns=['Unnamed: 6', 'Unnamed: 7', 'Attribute Information:'])\n",
    "#further dropping columns that contain data, but are not to be used as predictor variables (everything but STG and PEG, study time and exam performance)\n",
    "knowledge_training = knowledge_training_initial.drop(columns=['SCG', 'STR', 'LPR'])\n",
    "\n",
    "#renaming columns to be legible -- UNS didn't change for some reason idk why\n",
    "knowledge_training = knowledge_training.rename(columns={'STG': 'study_time', 'PEG': 'exam_performance', 'UNS': 'knowledge'})\n",
    "\n",
    "knowledge_training"
   ]
  },
  {
   "cell_type": "code",
   "execution_count": null,
   "id": "69473587-ec86-456c-89ce-72ed9563155d",
   "metadata": {},
   "outputs": [],
   "source": []
  }
 ],
 "metadata": {
  "kernelspec": {
   "display_name": "Python 3 (ipykernel)",
   "language": "python",
   "name": "python3"
  },
  "language_info": {
   "codemirror_mode": {
    "name": "ipython",
    "version": 3
   },
   "file_extension": ".py",
   "mimetype": "text/x-python",
   "name": "python",
   "nbconvert_exporter": "python",
   "pygments_lexer": "ipython3",
   "version": "3.10.8"
  }
 },
 "nbformat": 4,
 "nbformat_minor": 5
}
