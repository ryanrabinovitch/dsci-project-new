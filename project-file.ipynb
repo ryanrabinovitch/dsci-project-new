{
 "cells": [
  {
   "cell_type": "markdown",
   "id": "954d6164-f4aa-4b48-85eb-fb9906c70f32",
   "metadata": {},
   "source": [
    "## TITLE: Analysis of User Knowledge Modeling - Predicting an individuals intelligence level"
   ]
  },
  {
   "cell_type": "markdown",
   "id": "7dbb77f6-e4de-4734-84cd-1b48bcf4e411",
   "metadata": {
    "tags": []
   },
   "source": [
    "### INTRODUCTION: \n",
    "\n",
    "Understanding knowledge is key for assessing an individual's ability to learn and apply new information. Generally, this is a challenging problem due to the fact that many people are skilled in varied fields, and thus don't necessarily have a clear idea as to how they stack up among others. Using different classifications ranging from \"very_low\" to \"high\", This data set contains a variety of potential predictor values that may help us predict an individual's knowledge level. In this analysis, we'll ask the following question: \"Which two attributes in this data set are best predictor values to help us figure out a user's knowledge level?\" We'll use the following data set: https://archive.ics.uci.edu/static/public/257/user+knowledge+modeling.zip\n",
    "This data set has 5 attributes: STG (The degree of study time for goal object materials), SCG (The degree of repetition number of user for goal object materials), STR (The degree of study time of user for related objects with goal object), LPR (The exam performance of user for related objects with goal object), PEG (The exam performance of user for goal objects), UNS (The knowledge level of user)."
   ]
  },
  {
   "cell_type": "markdown",
   "id": "58331cbc-5bc5-403d-91f2-ed2d681547b8",
   "metadata": {},
   "source": [
    "### Methods and Results:"
   ]
  },
  {
   "cell_type": "markdown",
   "id": "a35a6f0b-f505-4325-9874-64bfc40455c8",
   "metadata": {},
   "source": [
    "#### Set up: \n",
    "Initially, we started by including the necessary imports to be able to read our file remotely from within the ZIP file. We then dropped the columns that would not affect our analysis such as the unnamed columns and the attribute information column. We ensured that our data file is tidy because each attribute was in its own column and each observation in its own cell. The final step of our set up was to check if we had any missing or NaN values in our dataframe; this was not the case. These steps ensured that our dataframe was ready to work with."
   ]
  },
  {
   "cell_type": "code",
   "execution_count": null,
   "id": "01e2651b-8a20-4066-869c-69d2030fd461",
   "metadata": {
    "tags": []
   },
   "outputs": [],
   "source": [
    "#a few extra things need to be imported in order to remotely read the excel file within the zip file\n",
    "import requests\n",
    "from io import BytesIO\n",
    "import pandas as pd\n",
    "from zipfile import ZipFile\n",
    "\n",
    "#finding and reading the excel file\n",
    "zip_file_url = 'https://archive.ics.uci.edu/static/public/257/user+knowledge+modeling.zip'\n",
    "response = requests.get(zip_file_url)\n",
    "zip_file = ZipFile(BytesIO(response.content))\n",
    "excel_file = zip_file.namelist()[0]\n",
    "initial_read = pd.read_excel(zip_file.open(excel_file), sheet_name='Training_Data')\n",
    "\n",
    "#dropping some extra columns not relevant to our analysis. knowledge_training should output just the data and the classification\n",
    "knowledge_training_initial = initial_read.drop(columns=['Unnamed: 6', 'Unnamed: 7', 'Attribute Information:'])\n",
    "#further dropping columns that contain data, but are not to be used as predictor variables (everything but STG and PEG, study time and exam performance)\n",
    "# knowledge_training = knowledge_training_initial.drop(columns=['SCG', 'STR', 'LPR'])\n",
    "\n",
    "#renaming columns to be legible -- UNS didn't change for some reason idk why\n",
    "knowledge_training = knowledge_training_initial.rename(columns={'STG': 'study_time',\n",
    "                                                                'SCG' : 'repetition_by_user',\n",
    "                                                                'STR' : 'study_time_for_related_subjects',\n",
    "                                                                'LPR' : 'exam_performance_for_related_subjects',\n",
    "                                                                'PEG': 'exam_performance',\n",
    "                                                                ' UNS': 'knowledge'})"
   ]
  },
  {
   "cell_type": "code",
   "execution_count": null,
   "id": "69473587-ec86-456c-89ce-72ed9563155d",
   "metadata": {},
   "outputs": [],
   "source": [
    "check_nan = knowledge_training.isnull().values.any()\n",
    "print(check_nan)"
   ]
  },
  {
   "cell_type": "code",
   "execution_count": null,
   "id": "6545e8c0-9eac-4729-8a43-3d515235ff3a",
   "metadata": {
    "tags": []
   },
   "outputs": [],
   "source": [
    "any_missing = knowledge_training.isna().any().any()\n",
    "print(any_missing)"
   ]
  },
  {
   "cell_type": "code",
   "execution_count": null,
   "id": "95a115f6-3d1f-4a45-b66e-7ab4cb6285b0",
   "metadata": {},
   "outputs": [],
   "source": [
    "knowledge_training"
   ]
  },
  {
   "cell_type": "markdown",
   "id": "c0427af7-0062-4a87-9aa6-413ec6fc0371",
   "metadata": {},
   "source": [
    "Next, we will create a correlation matrix of our dataframe to quantify the linear relationship between the attributes in our dataframe. Since our target attribute of prediction is a categorical one, it was easiest to encode our knowledge levels to be able to output a reasonable correlation matrix. The encoded dataframe and the correlation matrix can be seen below. It is clear that some attributes are less correlated with knowledge level than others; for that reason we chose to eliminate any attributes that have a consistent correlation of 0.15 or lower (absolute value). From the correlation matrix, we can see that the \"study_time_for_related_subjects\" attribute scored consistently between -0.15 and 0.15; therefore it was eliminated from our analysis as it didn't appear to have correlation with knowledge levels."
   ]
  },
  {
   "cell_type": "code",
   "execution_count": null,
   "id": "d8aa521c-055a-437e-b488-7327627c634d",
   "metadata": {
    "tags": []
   },
   "outputs": [],
   "source": [
    "knowledge_training_encoded = pd.get_dummies(knowledge_training, columns=['knowledge'], prefix='KnowledgeLevel')\n",
    "knowledge_training_encoded"
   ]
  },
  {
   "cell_type": "code",
   "execution_count": null,
   "id": "201596f1-c9d7-44ef-b91c-9cc958e6d46c",
   "metadata": {
    "tags": []
   },
   "outputs": [],
   "source": [
    "correlation_matrix = knowledge_training_encoded.corr()\n",
    "print(correlation_matrix)"
   ]
  },
  {
   "cell_type": "code",
   "execution_count": null,
   "id": "27d6ed16-95f2-4d09-baa6-84d66331c4bf",
   "metadata": {
    "tags": []
   },
   "outputs": [],
   "source": [
    "knowledge_training_final = knowledge_training.drop(columns=['study_time_for_related_subjects'])\n",
    "knowledge_training_final"
   ]
  },
  {
   "cell_type": "markdown",
   "id": "fb7feb1a-2b08-4002-8575-3cb18a3f6ea0",
   "metadata": {},
   "source": [
    "Next, we choose to show some statistics about our dataframe. Namely, the split of the different knowledge levels that are present in our dataframe."
   ]
  },
  {
   "cell_type": "code",
   "execution_count": null,
   "id": "6f8c6925-7b3d-4551-abf4-2418a00e7ff3",
   "metadata": {
    "tags": []
   },
   "outputs": [],
   "source": [
    "100 * knowledge_training_final.groupby('knowledge').size() / knowledge_training_final.shape[0]"
   ]
  },
  {
   "cell_type": "code",
   "execution_count": null,
   "id": "45b4c801-ec08-4afe-a451-0e4569420983",
   "metadata": {
    "tags": []
   },
   "outputs": [],
   "source": [
    "knowledge_training_final['knowledge'].value_counts()"
   ]
  },
  {
   "cell_type": "markdown",
   "id": "d066d82e-5e4e-4cc3-ae42-a70d7bd2d241",
   "metadata": {},
   "source": [
    "The next step is to create visualizations between each pair of attributes in our dataframe to help identify an existing correlation, if there is one."
   ]
  },
  {
   "cell_type": "markdown",
   "id": "8bc9529a-654b-477b-94ff-ee5e70cc428e",
   "metadata": {},
   "source": [
    "### Study Time vs. Repetition by User:"
   ]
  },
  {
   "cell_type": "code",
   "execution_count": null,
   "id": "e162ee8c-f783-4813-9d28-65baa49cfcec",
   "metadata": {
    "tags": []
   },
   "outputs": [],
   "source": [
    "import altair as alt\n",
    "\n",
    "studyTime_repetitionByUser_plot = alt.Chart(knowledge_training_final, title = \"Study Time vs. Repetition by User\").mark_circle().encode(\n",
    "    x=alt.X(\"study_time:Q\", title=\"Study Time\"),  \n",
    "    y=alt.Y(\"repetition_by_user:Q\", title=\"Repetition by User\"), \n",
    "    color=alt.Color(\"knowledge:N\", title=\"Knowledge Level\") \n",
    ")\n",
    "studyTime_repetitionByUser_plot"
   ]
  },
  {
   "cell_type": "markdown",
   "id": "1430a584-9759-4553-bd68-0e0ca75e6507",
   "metadata": {},
   "source": [
    "### Study Time vs. Exam Performance for Related Subjects:"
   ]
  },
  {
   "cell_type": "code",
   "execution_count": null,
   "id": "151aaeca-f45c-4873-a10e-8a83371e8abc",
   "metadata": {
    "tags": []
   },
   "outputs": [],
   "source": [
    "studyTime_examPerfForRelatedSubj_plot = alt.Chart(knowledge_training_final, title = \"Study Time vs. Exam Performance for Related Subject\").mark_circle().encode(\n",
    "    x=alt.X(\"study_time:Q\", title=\"Study Time\"),  \n",
    "    y=alt.Y(\"exam_performance_for_related_subjects:Q\", title=\"Exam Performance for Related Subjects\"), \n",
    "    color=alt.Color(\"knowledge:N\", title=\"Knowledge Level\") \n",
    ")\n",
    "studyTime_examPerfForRelatedSubj_plot"
   ]
  },
  {
   "cell_type": "markdown",
   "id": "aff66667-849d-4904-9c28-5079eeac446b",
   "metadata": {},
   "source": [
    "### Study Time vs. Exam Performance:"
   ]
  },
  {
   "cell_type": "code",
   "execution_count": null,
   "id": "2f76eeda-95af-43f8-ac50-bd8adf901553",
   "metadata": {
    "tags": []
   },
   "outputs": [],
   "source": [
    "studyTime_examPerf_plot = alt.Chart(knowledge_training_final, title = \"Study Time vs. Exam Performance\").mark_circle().encode(\n",
    "    x=alt.X(\"study_time:Q\", title=\"Study Time\"),  \n",
    "    y=alt.Y(\"exam_performance:Q\", title=\"Exam Performance\"), \n",
    "    color=alt.Color(\"knowledge:N\", title=\"Knowledge Level\") \n",
    ")\n",
    "studyTime_examPerf_plot"
   ]
  },
  {
   "cell_type": "code",
   "execution_count": null,
   "id": "325fad41-1b4c-4ca1-b734-4fd195f87bb7",
   "metadata": {},
   "outputs": [],
   "source": []
  }
 ],
 "metadata": {
  "kernelspec": {
   "display_name": "Python 3 (ipykernel)",
   "language": "python",
   "name": "python3"
  },
  "language_info": {
   "codemirror_mode": {
    "name": "ipython",
    "version": 3
   },
   "file_extension": ".py",
   "mimetype": "text/x-python",
   "name": "python",
   "nbconvert_exporter": "python",
   "pygments_lexer": "ipython3",
   "version": "3.10.8"
  }
 },
 "nbformat": 4,
 "nbformat_minor": 5
}
